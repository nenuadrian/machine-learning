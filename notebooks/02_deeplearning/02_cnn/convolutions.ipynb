{
  "cells": [
    {
      "cell_type": "markdown",
      "metadata": {
        "id": "view-in-github",
        "colab_type": "text"
      },
      "source": [
        "<a href=\"https://colab.research.google.com/github/nenuadrian/machine-learning/blob/main/notebooks/02_deeplearning/02_cnn/convolutions.ipynb\" target=\"_parent\"><img src=\"https://colab.research.google.com/assets/colab-badge.svg\" alt=\"Open In Colab\"/></a>"
      ]
    },
    {
      "cell_type": "markdown",
      "metadata": {
        "id": "eeAYOvDcMGxM"
      },
      "source": [
        "# 🎆 Convolutions"
      ]
    },
    {
      "cell_type": "markdown",
      "metadata": {
        "id": "f07-OWS8MGxP"
      },
      "source": [
        "In this notebook, we'll walk through how convolutional filters can pick out different aspects of an image"
      ]
    },
    {
      "cell_type": "code",
      "execution_count": 1,
      "metadata": {
        "id": "9VU64lQ0MGxP"
      },
      "outputs": [],
      "source": [
        "%matplotlib inline\n",
        "import matplotlib.pyplot as plt\n",
        "import numpy as np\n",
        "from skimage import data\n",
        "from skimage.color import rgb2gray\n",
        "from skimage.transform import resize"
      ]
    },
    {
      "cell_type": "markdown",
      "metadata": {
        "id": "GacG20HRMGxS"
      },
      "source": [
        "## 0. Original Input Image <a name=\"orig\"></a>"
      ]
    },
    {
      "cell_type": "code",
      "execution_count": 2,
      "metadata": {
        "id": "clwK1AktMGxS",
        "outputId": "8906c376-85c0-40c0-d8c5-18910371c55a",
        "colab": {
          "base_uri": "https://localhost:8080/",
          "height": 442
        }
      },
      "outputs": [
        {
          "output_type": "stream",
          "name": "stdout",
          "text": [
            "(64, 64)\n"
          ]
        },
        {
          "output_type": "execute_result",
          "data": {
            "text/plain": [
              "<matplotlib.image.AxesImage at 0x7f20ff619010>"
            ]
          },
          "metadata": {},
          "execution_count": 2
        },
        {
          "output_type": "display_data",
          "data": {
            "text/plain": [
              "<Figure size 640x480 with 1 Axes>"
            ],
            "image/png": "[encoded data removed]"
          },
          "metadata": {}
        }
      ],
      "source": [
        "im = rgb2gray(data.coffee())\n",
        "im = resize(im, (64, 64))\n",
        "print(im.shape)\n",
        "\n",
        "plt.axis(\"off\")\n",
        "plt.imshow(im, cmap=\"gray\")"
      ]
    },
    {
      "cell_type": "markdown",
      "metadata": {
        "id": "FU7Af3-vMGxT"
      },
      "source": [
        "## Horizontal Edge Filter <a name=\"hor\"></a>"
      ]
    },
    {
      "cell_type": "code",
      "execution_count": 3,
      "metadata": {
        "id": "5C19iIFMMGxT",
        "outputId": "1eaf694c-0f17-478c-a289-042553e5a203",
        "colab": {
          "base_uri": "https://localhost:8080/",
          "height": 424
        }
      },
      "outputs": [
        {
          "output_type": "execute_result",
          "data": {
            "text/plain": [
              "<matplotlib.image.AxesImage at 0x7f20ff72e350>"
            ]
          },
          "metadata": {},
          "execution_count": 3
        },
        {
          "output_type": "display_data",
          "data": {
            "text/plain": [
              "<Figure size 640x480 with 1 Axes>"
            ],
            "image/png": "[encoded data removed]"
          },
          "metadata": {}
        }
      ],
      "source": [
        "filter1 = np.array([[1, 1, 1], [0, 0, 0], [-1, -1, -1]])\n",
        "\n",
        "new_image = np.zeros(im.shape)\n",
        "\n",
        "im_pad = np.pad(im, 1, \"constant\")\n",
        "\n",
        "for i in range(im.shape[0]):\n",
        "    for j in range(im.shape[1]):\n",
        "        try:\n",
        "            new_image[i, j] = (\n",
        "                im_pad[i - 1, j - 1] * filter1[0, 0]\n",
        "                + im_pad[i - 1, j] * filter1[0, 1]\n",
        "                + im_pad[i - 1, j + 1] * filter1[0, 2]\n",
        "                + im_pad[i, j - 1] * filter1[1, 0]\n",
        "                + im_pad[i, j] * filter1[1, 1]\n",
        "                + im_pad[i, j + 1] * filter1[1, 2]\n",
        "                + im_pad[i + 1, j - 1] * filter1[2, 0]\n",
        "                + im_pad[i + 1, j] * filter1[2, 1]\n",
        "                + im_pad[i + 1, j + 1] * filter1[2, 2]\n",
        "            )\n",
        "        except:\n",
        "            pass\n",
        "\n",
        "plt.axis(\"off\")\n",
        "plt.imshow(new_image, cmap=\"Greys\")"
      ]
    },
    {
      "cell_type": "markdown",
      "metadata": {
        "id": "ej6SJE7QMGxU"
      },
      "source": [
        "## Vertical Edge Filter <a name=\"ver\"></a>"
      ]
    },
    {
      "cell_type": "code",
      "execution_count": 4,
      "metadata": {
        "id": "GwMwFvW3MGxV",
        "outputId": "3bd422df-3703-4bb7-e5cd-75b13a84e66d",
        "colab": {
          "base_uri": "https://localhost:8080/",
          "height": 424
        }
      },
      "outputs": [
        {
          "output_type": "execute_result",
          "data": {
            "text/plain": [
              "<matplotlib.image.AxesImage at 0x7f20ff72cd10>"
            ]
          },
          "metadata": {},
          "execution_count": 4
        },
        {
          "output_type": "display_data",
          "data": {
            "text/plain": [
              "<Figure size 640x480 with 1 Axes>"
            ],
            "image/png": "[encoded data removed]"
          },
          "metadata": {}
        }
      ],
      "source": [
        "filter2 = np.array([[-1, 0, 1], [-1, 0, 1], [-1, 0, 1]])\n",
        "\n",
        "new_image = np.zeros(im.shape)\n",
        "\n",
        "im_pad = np.pad(im, 1, \"constant\")\n",
        "\n",
        "for i in range(im.shape[0]):\n",
        "    for j in range(im.shape[1]):\n",
        "        try:\n",
        "            new_image[i, j] = (\n",
        "                im_pad[i - 1, j - 1] * filter2[0, 0]\n",
        "                + im_pad[i - 1, j] * filter2[0, 1]\n",
        "                + im_pad[i - 1, j + 1] * filter2[0, 2]\n",
        "                + im_pad[i, j - 1] * filter2[1, 0]\n",
        "                + im_pad[i, j] * filter2[1, 1]\n",
        "                + im_pad[i, j + 1] * filter2[1, 2]\n",
        "                + im_pad[i + 1, j - 1] * filter2[2, 0]\n",
        "                + im_pad[i + 1, j] * filter2[2, 1]\n",
        "                + im_pad[i + 1, j + 1] * filter2[2, 2]\n",
        "            )\n",
        "        except:\n",
        "            pass\n",
        "\n",
        "plt.axis(\"off\")\n",
        "plt.imshow(new_image, cmap=\"Greys\")"
      ]
    },
    {
      "cell_type": "markdown",
      "metadata": {
        "id": "b3Fdg8nXMGxW"
      },
      "source": [
        "## Horizontal Edge Filter with Stride 2 <a name=\"hor2\"></a>"
      ]
    },
    {
      "cell_type": "code",
      "execution_count": 5,
      "metadata": {
        "id": "SR-Uj70rMGxX",
        "outputId": "4d8a4b7a-60f3-4999-82b4-121b2c1d099a",
        "colab": {
          "base_uri": "https://localhost:8080/",
          "height": 424
        }
      },
      "outputs": [
        {
          "output_type": "execute_result",
          "data": {
            "text/plain": [
              "<matplotlib.image.AxesImage at 0x7f20ff738f50>"
            ]
          },
          "metadata": {},
          "execution_count": 5
        },
        {
          "output_type": "display_data",
          "data": {
            "text/plain": [
              "<Figure size 640x480 with 1 Axes>"
            ],
            "image/png": "[encoded data removed]"
          },
          "metadata": {}
        }
      ],
      "source": [
        "filter1 = np.array([[1, 1, 1], [0, 0, 0], [-1, -1, -1]])\n",
        "\n",
        "stride = 2\n",
        "\n",
        "new_image = np.zeros((int(im.shape[0] / stride), int(im.shape[1] / stride)))\n",
        "\n",
        "im_pad = np.pad(im, 1, \"constant\")\n",
        "\n",
        "for i in range(0, im.shape[0], stride):\n",
        "    for j in range(0, im.shape[1], stride):\n",
        "        try:\n",
        "            new_image[int(i / stride), int(j / stride)] = (\n",
        "                im_pad[i - 1, j - 1] * filter1[0, 0]\n",
        "                + im_pad[i - 1, j] * filter1[0, 1]\n",
        "                + im_pad[i - 1, j + 1] * filter1[0, 2]\n",
        "                + im_pad[i, j - 1] * filter1[1, 0]\n",
        "                + im_pad[i, j] * filter1[1, 1]\n",
        "                + im_pad[i, j + 1] * filter1[1, 2]\n",
        "                + im_pad[i + 1, j - 1] * filter1[2, 0]\n",
        "                + im_pad[i + 1, j] * filter1[2, 1]\n",
        "                + im_pad[i + 1, j + 1] * filter1[2, 2]\n",
        "            )\n",
        "        except:\n",
        "            pass\n",
        "\n",
        "plt.axis(\"off\")\n",
        "plt.imshow(new_image, cmap=\"Greys\")"
      ]
    },
    {
      "cell_type": "markdown",
      "metadata": {
        "id": "yCWs2hbrMGxX"
      },
      "source": [
        "## Vertical Edge Filter with Stride 2 <a name=\"ver2\"></a>"
      ]
    },
    {
      "cell_type": "code",
      "execution_count": 6,
      "metadata": {
        "id": "P79_acdyMGxY",
        "outputId": "df343bac-eef5-4ef1-fd77-5d6f498a00b7",
        "colab": {
          "base_uri": "https://localhost:8080/",
          "height": 424
        }
      },
      "outputs": [
        {
          "output_type": "execute_result",
          "data": {
            "text/plain": [
              "<matplotlib.image.AxesImage at 0x7f2100184250>"
            ]
          },
          "metadata": {},
          "execution_count": 6
        },
        {
          "output_type": "display_data",
          "data": {
            "text/plain": [
              "<Figure size 640x480 with 1 Axes>"
            ],
            "image/png": "[encoded data removed]"
          },
          "metadata": {}
        }
      ],
      "source": [
        "filter2 = np.array([[-1, 0, 1], [-1, 0, 1], [-1, 0, 1]])\n",
        "\n",
        "stride = 2\n",
        "\n",
        "new_image = np.zeros((int(im.shape[0] / stride), int(im.shape[1] / stride)))\n",
        "\n",
        "im_pad = np.pad(im, 1, \"constant\")\n",
        "\n",
        "for i in range(0, im.shape[0], stride):\n",
        "    for j in range(0, im.shape[1], stride):\n",
        "        try:\n",
        "            new_image[int(i / stride), int(j / stride)] = (\n",
        "                im_pad[i - 1, j - 1] * filter2[0, 0]\n",
        "                + im_pad[i - 1, j] * filter2[0, 1]\n",
        "                + im_pad[i - 1, j + 1] * filter2[0, 2]\n",
        "                + im_pad[i, j - 1] * filter2[1, 0]\n",
        "                + im_pad[i, j] * filter2[1, 1]\n",
        "                + im_pad[i, j + 1] * filter2[1, 2]\n",
        "                + im_pad[i + 1, j - 1] * filter2[2, 0]\n",
        "                + im_pad[i + 1, j] * filter2[2, 1]\n",
        "                + im_pad[i + 1, j + 1] * filter2[2, 2]\n",
        "            )\n",
        "        except:\n",
        "            pass\n",
        "\n",
        "plt.axis(\"off\")\n",
        "plt.imshow(new_image, cmap=\"Greys\")"
      ]
    }
  ],
  "metadata": {
    "kernelspec": {
      "display_name": "Python 3 (ipykernel)",
      "language": "python",
      "name": "python3"
    },
    "language_info": {
      "codemirror_mode": {
        "name": "ipython",
        "version": 3
      },
      "file_extension": ".py",
      "mimetype": "text/x-python",
      "name": "python",
      "nbconvert_exporter": "python",
      "pygments_lexer": "ipython3",
      "version": "3.8.10"
    },
    "vscode": {
      "interpreter": {
        "hash": "31f2aee4e71d21fbe5cf8b01ff0e069b9275f58929596ceb00d14d90e3e16cd6"
      }
    },
    "colab": {
      "provenance": [],
      "include_colab_link": true
    }
  },
  "nbformat": 4,
  "nbformat_minor": 0
}